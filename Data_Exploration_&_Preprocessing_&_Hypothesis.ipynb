{
 "cells": [
  {
   "cell_type": "code",
   "execution_count": 1,
   "metadata": {},
   "outputs": [],
   "source": [
    "import pandas as pd\n",
    "import numpy as np\n",
    "import time\n",
    "from datetime import date\n",
    "import datetime as dt\n",
    "import datetime\n",
    "import matplotlib.pyplot as plt\n",
    "import seaborn as sns"
   ]
  },
  {
   "cell_type": "markdown",
   "metadata": {},
   "source": [
    "### Data exploration"
   ]
  },
  {
   "cell_type": "code",
   "execution_count": 2,
   "metadata": {},
   "outputs": [
    {
     "name": "stdout",
     "output_type": "stream",
     "text": [
      "<class 'pandas.core.frame.DataFrame'>\n",
      "RangeIndex: 577 entries, 0 to 576\n",
      "Data columns (total 11 columns):\n",
      "week                      577 non-null int64\n",
      "date                      577 non-null datetime64[ns]\n",
      "time_start                577 non-null object\n",
      "time_end                  577 non-null object\n",
      "duration                  565 non-null object\n",
      "listed_title              565 non-null object\n",
      "top_category              577 non-null object\n",
      "listed_location           502 non-null object\n",
      "listed_project_officer    208 non-null object\n",
      "detail_category           561 non-null object\n",
      "notes                     17 non-null object\n",
      "dtypes: datetime64[ns](1), int64(1), object(9)\n",
      "memory usage: 49.7+ KB\n"
     ]
    }
   ],
   "source": [
    "df = pd.read_excel('President_Donald_Trump_Private_Schedules.xlsx')\n",
    "\n",
    "df.info()"
   ]
  },
  {
   "cell_type": "code",
   "execution_count": 3,
   "metadata": {},
   "outputs": [
    {
     "data": {
      "text/html": [
       "<div>\n",
       "<style scoped>\n",
       "    .dataframe tbody tr th:only-of-type {\n",
       "        vertical-align: middle;\n",
       "    }\n",
       "\n",
       "    .dataframe tbody tr th {\n",
       "        vertical-align: top;\n",
       "    }\n",
       "\n",
       "    .dataframe thead th {\n",
       "        text-align: right;\n",
       "    }\n",
       "</style>\n",
       "<table border=\"1\" class=\"dataframe\">\n",
       "  <thead>\n",
       "    <tr style=\"text-align: right;\">\n",
       "      <th></th>\n",
       "      <th>week</th>\n",
       "      <th>date</th>\n",
       "      <th>time_start</th>\n",
       "      <th>time_end</th>\n",
       "      <th>duration</th>\n",
       "      <th>listed_title</th>\n",
       "      <th>top_category</th>\n",
       "      <th>listed_location</th>\n",
       "      <th>listed_project_officer</th>\n",
       "      <th>detail_category</th>\n",
       "      <th>notes</th>\n",
       "    </tr>\n",
       "  </thead>\n",
       "  <tbody>\n",
       "    <tr>\n",
       "      <th>0</th>\n",
       "      <td>1</td>\n",
       "      <td>2018-11-07</td>\n",
       "      <td>08:00:00</td>\n",
       "      <td>11:00:00</td>\n",
       "      <td>03:00:00</td>\n",
       "      <td>Executive time</td>\n",
       "      <td>executive_time</td>\n",
       "      <td>Oval office</td>\n",
       "      <td>NaN</td>\n",
       "      <td>executive_time</td>\n",
       "      <td>NaN</td>\n",
       "    </tr>\n",
       "    <tr>\n",
       "      <th>1</th>\n",
       "      <td>1</td>\n",
       "      <td>2018-11-07</td>\n",
       "      <td>11:00:00</td>\n",
       "      <td>11:30:00</td>\n",
       "      <td>00:30:00</td>\n",
       "      <td>Meeting with the chief of staff</td>\n",
       "      <td>meeting</td>\n",
       "      <td>Oval office</td>\n",
       "      <td>NaN</td>\n",
       "      <td>cos_meeting</td>\n",
       "      <td>NaN</td>\n",
       "    </tr>\n",
       "    <tr>\n",
       "      <th>2</th>\n",
       "      <td>1</td>\n",
       "      <td>2018-11-07</td>\n",
       "      <td>11:30:00</td>\n",
       "      <td>12:30:00</td>\n",
       "      <td>01:00:00</td>\n",
       "      <td>Executive time</td>\n",
       "      <td>executive_time</td>\n",
       "      <td>Oval office</td>\n",
       "      <td>NaN</td>\n",
       "      <td>executive_time</td>\n",
       "      <td>NaN</td>\n",
       "    </tr>\n",
       "    <tr>\n",
       "      <th>3</th>\n",
       "      <td>1</td>\n",
       "      <td>2018-11-07</td>\n",
       "      <td>12:30:00</td>\n",
       "      <td>13:30:00</td>\n",
       "      <td>01:00:00</td>\n",
       "      <td>Lunch</td>\n",
       "      <td>lunch</td>\n",
       "      <td>Private dining room</td>\n",
       "      <td>NaN</td>\n",
       "      <td>solo_lunch</td>\n",
       "      <td>NaN</td>\n",
       "    </tr>\n",
       "    <tr>\n",
       "      <th>4</th>\n",
       "      <td>1</td>\n",
       "      <td>2018-11-07</td>\n",
       "      <td>13:30:00</td>\n",
       "      <td>17:00:00</td>\n",
       "      <td>03:30:00</td>\n",
       "      <td>Executive time</td>\n",
       "      <td>executive_time</td>\n",
       "      <td>Oval office</td>\n",
       "      <td>NaN</td>\n",
       "      <td>executive_time</td>\n",
       "      <td>NaN</td>\n",
       "    </tr>\n",
       "  </tbody>\n",
       "</table>\n",
       "</div>"
      ],
      "text/plain": [
       "   week       date time_start  time_end  duration  \\\n",
       "0     1 2018-11-07   08:00:00  11:00:00  03:00:00   \n",
       "1     1 2018-11-07   11:00:00  11:30:00  00:30:00   \n",
       "2     1 2018-11-07   11:30:00  12:30:00  01:00:00   \n",
       "3     1 2018-11-07   12:30:00  13:30:00  01:00:00   \n",
       "4     1 2018-11-07   13:30:00  17:00:00  03:30:00   \n",
       "\n",
       "                      listed_title    top_category      listed_location  \\\n",
       "0                   Executive time  executive_time          Oval office   \n",
       "1  Meeting with the chief of staff         meeting          Oval office   \n",
       "2                   Executive time  executive_time          Oval office   \n",
       "3                            Lunch           lunch  Private dining room   \n",
       "4                   Executive time  executive_time          Oval office   \n",
       "\n",
       "  listed_project_officer detail_category notes  \n",
       "0                    NaN  executive_time   NaN  \n",
       "1                    NaN     cos_meeting   NaN  \n",
       "2                    NaN  executive_time   NaN  \n",
       "3                    NaN      solo_lunch   NaN  \n",
       "4                    NaN  executive_time   NaN  "
      ]
     },
     "execution_count": 3,
     "metadata": {},
     "output_type": "execute_result"
    }
   ],
   "source": [
    "df.head()"
   ]
  },
  {
   "cell_type": "code",
   "execution_count": 4,
   "metadata": {},
   "outputs": [
    {
     "data": {
      "image/png": "[encoded data removed]",
      "text/plain": [
       "<Figure size 936x360 with 1 Axes>"
      ]
     },
     "metadata": {},
     "output_type": "display_data"
    }
   ],
   "source": [
    "popular_detail_category = df.detail_category.value_counts().head(10)\n",
    "plt.figure(figsize = (13,5))\n",
    "height  = popular_detail_category\n",
    "bars = popular_detail_category.index\n",
    "y_pos = np.arange(len(bars))\n",
    "plt.bar(y_pos, height, color = '#ffa500')\n",
    "plt.xticks(y_pos, bars)\n",
    "plt.title('Popular detail_category')\n",
    "plt.ylabel('The number of events')\n",
    "plt.xlabel('Event')\n",
    "plt.xticks(rotation =  45)\n",
    "plt.show()"
   ]
  },
  {
   "cell_type": "code",
   "execution_count": 5,
   "metadata": {},
   "outputs": [
    {
     "data": {
      "text/plain": [
       "week                        0\n",
       "date                        0\n",
       "time_start                  0\n",
       "time_end                    0\n",
       "duration                   12\n",
       "listed_title               12\n",
       "top_category                0\n",
       "listed_location            75\n",
       "listed_project_officer    369\n",
       "detail_category            16\n",
       "notes                     560\n",
       "dtype: int64"
      ]
     },
     "execution_count": 5,
     "metadata": {},
     "output_type": "execute_result"
    }
   ],
   "source": [
    "df.isnull().sum()"
   ]
  },
  {
   "cell_type": "code",
   "execution_count": 6,
   "metadata": {},
   "outputs": [
    {
     "data": {
      "text/plain": [
       "week            0\n",
       "date            0\n",
       "time_start      0\n",
       "time_end        0\n",
       "duration        0\n",
       "listed_title    0\n",
       "top_category    0\n",
       "dtype: int64"
      ]
     },
     "execution_count": 6,
     "metadata": {},
     "output_type": "execute_result"
    }
   ],
   "source": [
    "df = df.drop(columns  = ['listed_project_officer','notes','detail_category','listed_location'])\n",
    "\n",
    "df = df.dropna().reset_index(drop = True)\n",
    "\n",
    "df.isnull().sum()"
   ]
  },
  {
   "cell_type": "code",
   "execution_count": 7,
   "metadata": {},
   "outputs": [
    {
     "data": {
      "text/plain": [
       "51"
      ]
     },
     "execution_count": 7,
     "metadata": {},
     "output_type": "execute_result"
    }
   ],
   "source": [
    "df.date.unique().shape[0]"
   ]
  },
  {
   "cell_type": "markdown",
   "metadata": {},
   "source": [
    "### Data analysis "
   ]
  },
  {
   "cell_type": "code",
   "execution_count": 8,
   "metadata": {},
   "outputs": [
    {
     "data": {
      "text/html": [
       "<div>\n",
       "<style scoped>\n",
       "    .dataframe tbody tr th:only-of-type {\n",
       "        vertical-align: middle;\n",
       "    }\n",
       "\n",
       "    .dataframe tbody tr th {\n",
       "        vertical-align: top;\n",
       "    }\n",
       "\n",
       "    .dataframe thead th {\n",
       "        text-align: right;\n",
       "    }\n",
       "</style>\n",
       "<table border=\"1\" class=\"dataframe\">\n",
       "  <thead>\n",
       "    <tr style=\"text-align: right;\">\n",
       "      <th></th>\n",
       "      <th>week</th>\n",
       "      <th>date</th>\n",
       "      <th>time_start</th>\n",
       "      <th>time_end</th>\n",
       "      <th>duration</th>\n",
       "      <th>listed_title</th>\n",
       "      <th>top_category</th>\n",
       "    </tr>\n",
       "  </thead>\n",
       "  <tbody>\n",
       "    <tr>\n",
       "      <th>0</th>\n",
       "      <td>1</td>\n",
       "      <td>2018-11-07</td>\n",
       "      <td>08:00:00</td>\n",
       "      <td>11:00:00</td>\n",
       "      <td>03:00:00</td>\n",
       "      <td>Executive time</td>\n",
       "      <td>executive_time</td>\n",
       "    </tr>\n",
       "    <tr>\n",
       "      <th>1</th>\n",
       "      <td>1</td>\n",
       "      <td>2018-11-07</td>\n",
       "      <td>11:00:00</td>\n",
       "      <td>11:30:00</td>\n",
       "      <td>00:30:00</td>\n",
       "      <td>Meeting with the chief of staff</td>\n",
       "      <td>meeting</td>\n",
       "    </tr>\n",
       "    <tr>\n",
       "      <th>2</th>\n",
       "      <td>1</td>\n",
       "      <td>2018-11-07</td>\n",
       "      <td>11:30:00</td>\n",
       "      <td>12:30:00</td>\n",
       "      <td>01:00:00</td>\n",
       "      <td>Executive time</td>\n",
       "      <td>executive_time</td>\n",
       "    </tr>\n",
       "    <tr>\n",
       "      <th>3</th>\n",
       "      <td>1</td>\n",
       "      <td>2018-11-07</td>\n",
       "      <td>12:30:00</td>\n",
       "      <td>13:30:00</td>\n",
       "      <td>01:00:00</td>\n",
       "      <td>Lunch</td>\n",
       "      <td>lunch</td>\n",
       "    </tr>\n",
       "    <tr>\n",
       "      <th>4</th>\n",
       "      <td>1</td>\n",
       "      <td>2018-11-07</td>\n",
       "      <td>13:30:00</td>\n",
       "      <td>17:00:00</td>\n",
       "      <td>03:30:00</td>\n",
       "      <td>Executive time</td>\n",
       "      <td>executive_time</td>\n",
       "    </tr>\n",
       "  </tbody>\n",
       "</table>\n",
       "</div>"
      ],
      "text/plain": [
       "   week       date time_start  time_end  duration  \\\n",
       "0     1 2018-11-07   08:00:00  11:00:00  03:00:00   \n",
       "1     1 2018-11-07   11:00:00  11:30:00  00:30:00   \n",
       "2     1 2018-11-07   11:30:00  12:30:00  01:00:00   \n",
       "3     1 2018-11-07   12:30:00  13:30:00  01:00:00   \n",
       "4     1 2018-11-07   13:30:00  17:00:00  03:30:00   \n",
       "\n",
       "                      listed_title    top_category  \n",
       "0                   Executive time  executive_time  \n",
       "1  Meeting with the chief of staff         meeting  \n",
       "2                   Executive time  executive_time  \n",
       "3                            Lunch           lunch  \n",
       "4                   Executive time  executive_time  "
      ]
     },
     "execution_count": 8,
     "metadata": {},
     "output_type": "execute_result"
    }
   ],
   "source": [
    "df.head()"
   ]
  },
  {
   "cell_type": "code",
   "execution_count": 9,
   "metadata": {},
   "outputs": [
    {
     "data": {
      "image/png": "[encoded data removed]",
      "text/plain": [
       "<Figure size 1440x360 with 1 Axes>"
      ]
     },
     "metadata": {},
     "output_type": "display_data"
    }
   ],
   "source": [
    "busy_day =  df.groupby(['date']).top_category.count()\n",
    "plt.figure(figsize = (20,5))\n",
    "height  = busy_day\n",
    "bars = busy_day.index.tolist()\n",
    "y_pos = np.arange(len(bars))\n",
    "plt.bar(y_pos, height, color = '#F7347A')\n",
    "plt.xticks(y_pos, bars)\n",
    "plt.title('How may things Trump did in this day')\n",
    "plt.ylabel('The number of events')\n",
    "plt.xlabel('The day of november')\n",
    "plt.xticks(rotation =  90)\n",
    "plt.show()"
   ]
  },
  {
   "cell_type": "code",
   "execution_count": 10,
   "metadata": {},
   "outputs": [
    {
     "data": {
      "image/png": "[encoded data removed]",
      "text/plain": [
       "<Figure size 576x576 with 1 Axes>"
      ]
     },
     "metadata": {},
     "output_type": "display_data"
    },
    {
     "name": "stdout",
     "output_type": "stream",
     "text": [
      "executive_time    233\n",
      "meeting           142\n",
      "event              89\n",
      "travel             62\n",
      "lunch              39\n",
      "Name: top_category, dtype: int64\n"
     ]
    }
   ],
   "source": [
    "popular_top_category = df.top_category.value_counts()\n",
    "popular_top_category.plot(kind='pie', subplots=True, figsize=(8, 8))\n",
    "plt.title('activities counts')\n",
    "plt.show()\n",
    "print(popular_top_category)"
   ]
  },
  {
   "cell_type": "markdown",
   "metadata": {},
   "source": [
    "#### Data preprocessing "
   ]
  },
  {
   "cell_type": "code",
   "execution_count": 11,
   "metadata": {},
   "outputs": [],
   "source": [
    "def time_in_range(df,x):\n",
    "    \"\"\"Return true if x is in the range [start, end]\"\"\"\n",
    "    start = df.time_start\n",
    "    end = df.time_end\n",
    "    if (start <= x <= end):\n",
    "        return 1\n",
    "    else:\n",
    "        return 0"
   ]
  },
  {
   "cell_type": "code",
   "execution_count": 12,
   "metadata": {},
   "outputs": [
    {
     "data": {
      "text/html": [
       "<div>\n",
       "<style scoped>\n",
       "    .dataframe tbody tr th:only-of-type {\n",
       "        vertical-align: middle;\n",
       "    }\n",
       "\n",
       "    .dataframe tbody tr th {\n",
       "        vertical-align: top;\n",
       "    }\n",
       "\n",
       "    .dataframe thead th {\n",
       "        text-align: right;\n",
       "    }\n",
       "</style>\n",
       "<table border=\"1\" class=\"dataframe\">\n",
       "  <thead>\n",
       "    <tr style=\"text-align: right;\">\n",
       "      <th></th>\n",
       "      <th>week</th>\n",
       "      <th>date</th>\n",
       "      <th>time_start</th>\n",
       "      <th>time_end</th>\n",
       "      <th>duration</th>\n",
       "      <th>listed_title</th>\n",
       "      <th>top_category</th>\n",
       "      <th>top_category_0901</th>\n",
       "      <th>top_category_1101</th>\n",
       "      <th>top_category_1301</th>\n",
       "      <th>top_category_1501</th>\n",
       "    </tr>\n",
       "  </thead>\n",
       "  <tbody>\n",
       "    <tr>\n",
       "      <th>0</th>\n",
       "      <td>1</td>\n",
       "      <td>2018-11-07</td>\n",
       "      <td>08:00:00</td>\n",
       "      <td>11:00:00</td>\n",
       "      <td>03:00:00</td>\n",
       "      <td>Executive time</td>\n",
       "      <td>executive_time</td>\n",
       "      <td>1</td>\n",
       "      <td>0</td>\n",
       "      <td>0</td>\n",
       "      <td>0</td>\n",
       "    </tr>\n",
       "    <tr>\n",
       "      <th>1</th>\n",
       "      <td>1</td>\n",
       "      <td>2018-11-07</td>\n",
       "      <td>11:00:00</td>\n",
       "      <td>11:30:00</td>\n",
       "      <td>00:30:00</td>\n",
       "      <td>Meeting with the chief of staff</td>\n",
       "      <td>meeting</td>\n",
       "      <td>0</td>\n",
       "      <td>1</td>\n",
       "      <td>0</td>\n",
       "      <td>0</td>\n",
       "    </tr>\n",
       "    <tr>\n",
       "      <th>2</th>\n",
       "      <td>1</td>\n",
       "      <td>2018-11-07</td>\n",
       "      <td>11:30:00</td>\n",
       "      <td>12:30:00</td>\n",
       "      <td>01:00:00</td>\n",
       "      <td>Executive time</td>\n",
       "      <td>executive_time</td>\n",
       "      <td>0</td>\n",
       "      <td>0</td>\n",
       "      <td>0</td>\n",
       "      <td>0</td>\n",
       "    </tr>\n",
       "  </tbody>\n",
       "</table>\n",
       "</div>"
      ],
      "text/plain": [
       "   week       date time_start  time_end  duration  \\\n",
       "0     1 2018-11-07   08:00:00  11:00:00  03:00:00   \n",
       "1     1 2018-11-07   11:00:00  11:30:00  00:30:00   \n",
       "2     1 2018-11-07   11:30:00  12:30:00  01:00:00   \n",
       "\n",
       "                      listed_title    top_category  top_category_0901  \\\n",
       "0                   Executive time  executive_time                  1   \n",
       "1  Meeting with the chief of staff         meeting                  0   \n",
       "2                   Executive time  executive_time                  0   \n",
       "\n",
       "   top_category_1101  top_category_1301  top_category_1501  \n",
       "0                  0                  0                  0  \n",
       "1                  1                  0                  0  \n",
       "2                  0                  0                  0  "
      ]
     },
     "execution_count": 12,
     "metadata": {},
     "output_type": "execute_result"
    }
   ],
   "source": [
    "goal_time = [datetime.time(9,1),datetime.time(11, 1),datetime.time(13, 1),datetime.time(15, 1)]\n",
    "\n",
    "df['top_category_0901'] = df.apply(lambda x: time_in_range(x, goal_time[0]), axis=1)\n",
    "df['top_category_1101'] = df.apply(lambda x: time_in_range(x, goal_time[1]), axis=1)\n",
    "df['top_category_1301'] = df.apply(lambda x: time_in_range(x, goal_time[2]), axis=1)\n",
    "df['top_category_1501'] = df.apply(lambda x: time_in_range(x, goal_time[3]), axis=1)\n",
    "\n",
    "df.head(3)"
   ]
  },
  {
   "cell_type": "code",
   "execution_count": 13,
   "metadata": {},
   "outputs": [
    {
     "data": {
      "image/png": "[encoded data removed]",
      "text/plain": [
       "<Figure size 1224x288 with 3 Axes>"
      ]
     },
     "metadata": {},
     "output_type": "display_data"
    }
   ],
   "source": [
    "def plot_top_by_time(df,top_category_time):\n",
    "    top_category_goal_time = df[df[top_category_time] == 1].top_category.value_counts()\n",
    "    height = top_category_goal_time\n",
    "    bars = top_category_goal_time.index\n",
    "    y_pos = np.arange(len(bars))\n",
    "    plt.bar(y_pos, height, color = '#F7347A')\n",
    "    plt.xticks(y_pos, bars)\n",
    "    plt.title('Popular event at: ' + top_category_time[-4:])\n",
    "    plt.ylabel('The number of events')\n",
    "    plt.xlabel('Event')\n",
    "    plt.xticks(rotation =  45)\n",
    "\n",
    "plt.figure(figsize=(17,4))\n",
    "plt.subplot(1, 3, 1)\n",
    "plot_top_by_time(df,'top_category_0901')\n",
    "plt.subplot(1, 3, 2)\n",
    "plot_top_by_time(df,'top_category_1101')\n",
    "plt.subplot(1, 3, 3)\n",
    "plot_top_by_time(df,'top_category_1301')"
   ]
  },
  {
   "cell_type": "code",
   "execution_count": 14,
   "metadata": {},
   "outputs": [
    {
     "name": "stdout",
     "output_type": "stream",
     "text": [
      "President Trump has no new activities in the last month\n"
     ]
    }
   ],
   "source": [
    "categories_in_first_part = df.top_category[:300]\n",
    "categories_in_last_part = df.top_category[300:]\n",
    "if len(set(np.unique(categories_in_last_part)) - set(np.unique(categories_in_first_part)))!=0:\n",
    "    print('WARNING: President Trump has new activities in the last month')\n",
    "else:\n",
    "    print('President Trump has no new activities in the last month')"
   ]
  },
  {
   "cell_type": "markdown",
   "metadata": {},
   "source": [
    "#### hypothesis #1\n",
    "The most popular event is executive_time. And just in this period Trump can watch the TV. In business problem is predict the top_category at 15:01, and we will buy an ad if that top_category is executive_time. But maybe Trump did his executive_time much more often in anothe time.  "
   ]
  },
  {
   "cell_type": "code",
   "execution_count": 15,
   "metadata": {},
   "outputs": [
    {
     "name": "stdout",
     "output_type": "stream",
     "text": [
      "'executive_time' at 15:01 happens in  9.87124463519 % of all executive time periods\n"
     ]
    }
   ],
   "source": [
    "df_executive = df[df.top_category == 'executive_time']\n",
    "\n",
    "print(\"'executive_time' at 15:01 happens in \",(df_executive.top_category_1501.sum()/df_executive.shape[0])*100,'% of all executive time periods')"
   ]
  },
  {
   "cell_type": "code",
   "execution_count": 16,
   "metadata": {},
   "outputs": [],
   "source": [
    "df_executive = df_executive.sort_values('time_start')\n",
    "\n",
    "df_executive = df_executive.reset_index()\n",
    "\n",
    "def cut_interval(df):\n",
    "    delta = 5\n",
    "    start = df.time_start \n",
    "    end = df.time_end\n",
    "    right_interval_value = (datetime.datetime.combine(datetime.date(1, 1, 1), start) + datetime.timedelta(minutes=delta)).time()\n",
    "    df_interval = [start]\n",
    "    while right_interval_value<end:\n",
    "        df_interval.append(right_interval_value)\n",
    "        start = right_interval_value\n",
    "        right_interval_value = (datetime.datetime.combine(datetime.date(1, 1, 1), start) + datetime.timedelta(minutes=delta)).time()\n",
    "    df_interval.append(end)\n",
    "    return df_interval\n",
    "\n",
    "intervals = df_executive.apply(lambda x:cut_interval(x),axis = 1)\n",
    "\n",
    "df_interval = pd.DataFrame()\n",
    "for row in intervals:\n",
    "    df_interval_part = pd.DataFrame([str(row[i])+'-' + str(row[i+1]) for i in range(len(row)-1)],columns = ['interval'])\n",
    "    df_interval = pd.concat([df_interval,df_interval_part]).reset_index(drop = True)"
   ]
  },
  {
   "cell_type": "code",
   "execution_count": 17,
   "metadata": {},
   "outputs": [
    {
     "data": {
      "image/png": "[encoded data removed]",
      "text/plain": [
       "<Figure size 1440x360 with 1 Axes>"
      ]
     },
     "metadata": {},
     "output_type": "display_data"
    }
   ],
   "source": [
    "df_interval['dummy_column'] = 1\n",
    "\n",
    "df_interval_bar =  df_interval.groupby('interval')['dummy_column'].sum()\n",
    "plt.figure(figsize = (20,5))\n",
    "height  = df_interval_bar\n",
    "bars = df_interval_bar.index.values\n",
    "y_pos = np.arange(len(bars))\n",
    "plt.bar(y_pos, height, color = '#F7347A')\n",
    "plt.xticks(y_pos[::5], [w[:5] for w in bars][::5])\n",
    "plt.title('Dynamics of Executive time during the day')\n",
    "plt.ylabel('Frequency of *executive_time*')\n",
    "plt.xlabel('Time of Day')\n",
    "plt.xticks(rotation = 90)\n",
    "plt.show()"
   ]
  },
  {
   "cell_type": "code",
   "execution_count": 18,
   "metadata": {},
   "outputs": [],
   "source": [
    "def training_data(df):\n",
    "    data_train = pd.DataFrame()\n",
    "    data_train['top_category_0901'] = df[df.top_category_0901 ==1].top_category.reset_index(drop = True)\n",
    "    data_train['top_category_1101'] = df[df.top_category_1101 ==1].top_category.reset_index(drop = True)\n",
    "    data_train['top_category_1301'] = df[df.top_category_1301 ==1].top_category.reset_index(drop = True)\n",
    "    data_train['top_category_1501'] = df[df.top_category_1501 ==1].top_category.reset_index(drop = True)\n",
    "    return data_train"
   ]
  },
  {
   "cell_type": "code",
   "execution_count": 19,
   "metadata": {},
   "outputs": [],
   "source": [
    "train_df = df.groupby('date').apply(training_data)"
   ]
  },
  {
   "cell_type": "code",
   "execution_count": 20,
   "metadata": {},
   "outputs": [],
   "source": [
    "train_df = train_df.dropna(subset=['top_category_1501'])"
   ]
  },
  {
   "cell_type": "code",
   "execution_count": 21,
   "metadata": {},
   "outputs": [],
   "source": [
    "train_df.to_csv('train_df.csv',index=False)"
   ]
  },
  {
   "cell_type": "code",
   "execution_count": 22,
   "metadata": {},
   "outputs": [
    {
     "data": {
      "text/plain": [
       "top_category_0901    0\n",
       "top_category_1101    1\n",
       "top_category_1301    1\n",
       "top_category_1501    0\n",
       "dtype: int64"
      ]
     },
     "execution_count": 22,
     "metadata": {},
     "output_type": "execute_result"
    }
   ],
   "source": [
    "train_df.isna().sum()"
   ]
  },
  {
   "cell_type": "code",
   "execution_count": null,
   "metadata": {},
   "outputs": [],
   "source": []
  },
  {
   "cell_type": "code",
   "execution_count": null,
   "metadata": {},
   "outputs": [],
   "source": []
  }
 ],
 "metadata": {
  "kernelspec": {
   "display_name": "Python 3",
   "language": "python",
   "name": "python3"
  },
  "language_info": {
   "codemirror_mode": {
    "name": "ipython",
    "version": 3
   },
   "file_extension": ".py",
   "mimetype": "text/x-python",
   "name": "python",
   "nbconvert_exporter": "python",
   "pygments_lexer": "ipython3",
   "version": "3.6.5"
  },
  "toc": {
   "base_numbering": 1,
   "nav_menu": {},
   "number_sections": false,
   "sideBar": true,
   "skip_h1_title": false,
   "title_cell": "Table of Contents",
   "title_sidebar": "Contents",
   "toc_cell": false,
   "toc_position": {},
   "toc_section_display": true,
   "toc_window_display": false
  }
 },
 "nbformat": 4,
 "nbformat_minor": 2
}
